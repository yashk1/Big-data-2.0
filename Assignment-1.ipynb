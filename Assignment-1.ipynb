{
 "cells": [
  {
   "cell_type": "markdown",
   "metadata": {},
   "source": [
    "## Assignment Part-1\n",
    "_Q1. Why do we call Python as a general purpose and high-level programming language?_\n",
    "\n",
    "Ans: Python is general purpose programming language because it can be used to solve a wide variety of problems like Machine learning, Software development, big data, etc\n"
   ]
  },
  {
   "cell_type": "markdown",
   "metadata": {},
   "source": [
    "_Q2. Why is Python called a dynamically typed language?_\n",
    "\n",
    "Ans: Python is dynamically typed because variable is not assigned untill the program is run/excecuted"
   ]
  },
  {
   "cell_type": "markdown",
   "metadata": {},
   "source": [
    "Q3. List some pros and cons of Python programming language?\n",
    "\n",
    "Ans: Pros-> \n",
    "1. Python is easy to learn \n",
    "2. Python has vast set of libraries\n",
    "3. Python can be used in various domains like Data Science, web development\n",
    "4. Python is interpreted programming language\n",
    "\n",
    "Cons->\n",
    "1. It is slower than other programming languages\n",
    "2. Python is hard to test/debug\n",
    "3. Python can have runtime errors\n"
   ]
  },
  {
   "cell_type": "markdown",
   "metadata": {},
   "source": [
    "Q4. In what all domains can we use Python?\n",
    "1. Machine learning / Artificial intelligence \n",
    "2. Desktop GUI \n",
    "3. Data science \n",
    "4. Web development \n",
    "5. Game development \n",
    "6. Mobile app development and many more"
   ]
  },
  {
   "cell_type": "markdown",
   "metadata": {},
   "source": [
    "Q5. What are variable and how can we declare them?\n",
    "\n",
    "Ans: Variable is a label/memory location that we can assign value to. Its value can change throughout the program\n",
    "\n",
    "a = 10 ->a is a variable"
   ]
  },
  {
   "cell_type": "markdown",
   "metadata": {},
   "source": [
    "Q6. How can we take an input from the user in Python?\n",
    "\n",
    "name = input(\"enter your name\")"
   ]
  },
  {
   "cell_type": "markdown",
   "metadata": {},
   "source": [
    "Q7. What is the default datatype of the value that has been taken as an input using input() function?\n",
    "\n",
    "Ans: The default type is `string`"
   ]
  },
  {
   "cell_type": "markdown",
   "metadata": {},
   "source": [
    "Q8. What is type casting?\n",
    "\n",
    "Type casting is changing the type of variable. "
   ]
  },
  {
   "cell_type": "markdown",
   "metadata": {},
   "source": [
    "Q9. Can we take more than one input from the user using single input() function? If yes, how? If no, why?\n",
    "\n",
    "Yes, we can take multiple values using input. Example: a,b = input(\"Enter 2 variables\").split()\n"
   ]
  },
  {
   "cell_type": "markdown",
   "metadata": {},
   "source": [
    "Q10. What are keywords?\n",
    "\n",
    "Keywords are reserved words in python that can not be used as variable or function or any other identifier. They are 33 of them"
   ]
  },
  {
   "cell_type": "markdown",
   "metadata": {},
   "source": [
    "Q11. Can we use keywords as a variable? Support your answer with reason.\n",
    "\n",
    "No, we cannot use keywords as variable. They are reserved for special purpose in python. Example below. and can't be used as a variable as it is a operator"
   ]
  },
  {
   "cell_type": "code",
   "execution_count": 3,
   "metadata": {},
   "outputs": [
    {
     "ename": "SyntaxError",
     "evalue": "invalid syntax (1279637100.py, line 1)",
     "output_type": "error",
     "traceback": [
      "\u001b[0;36m  Input \u001b[0;32mIn [3]\u001b[0;36m\u001b[0m\n\u001b[0;31m    and = 'hello'\u001b[0m\n\u001b[0m    ^\u001b[0m\n\u001b[0;31mSyntaxError\u001b[0m\u001b[0;31m:\u001b[0m invalid syntax\n"
     ]
    }
   ],
   "source": [
    "and = 'hello'"
   ]
  },
  {
   "cell_type": "markdown",
   "metadata": {},
   "source": [
    "Q12. What is indentation? What's the use of indentaion in Python?\n",
    "\n",
    "Indentation refers to the spaces at the beginning of a code line. Python uses indentation to indicate a block of code.\n"
   ]
  },
  {
   "cell_type": "markdown",
   "metadata": {},
   "source": [
    "_Q13. How can we throw some output in Python?_\n",
    "\n",
    "Using Print() function"
   ]
  },
  {
   "cell_type": "markdown",
   "metadata": {},
   "source": [
    "_Q14. What are operators in Python?_\n",
    "\n",
    "Operators are used to perform operations on values and variables"
   ]
  },
  {
   "cell_type": "markdown",
   "metadata": {},
   "source": [
    "Q15. What is difference between / and // operators?\n",
    "\n",
    "* `/` divides two values and give the answer as float data type\n",
    "* `//` divides two values and give the answer as int/absolute value"
   ]
  },
  {
   "cell_type": "markdown",
   "metadata": {},
   "source": [
    "Q16. Write a code that gives following as an output.\n",
    "```\n",
    "iNeuroniNeuroniNeuroniNeuron\n",
    "```"
   ]
  },
  {
   "cell_type": "code",
   "execution_count": 3,
   "metadata": {},
   "outputs": [
    {
     "name": "stdout",
     "output_type": "stream",
     "text": [
      "iNeuroniNeuroniNeuroniNeuron\n"
     ]
    }
   ],
   "source": [
    "print('iNeuron'*4)"
   ]
  },
  {
   "cell_type": "markdown",
   "metadata": {},
   "source": [
    "Q17. Write a code to take a number as an input from the user and check if the number is odd or even.\n"
   ]
  },
  {
   "cell_type": "code",
   "execution_count": 5,
   "metadata": {},
   "outputs": [
    {
     "name": "stdout",
     "output_type": "stream",
     "text": [
      "wrong input. enter a number invalid literal for int() with base 10: 'sd'\n",
      "wrong input. enter a number invalid literal for int() with base 10: 'sddf'\n",
      "wrong input. enter a number invalid literal for int() with base 10: '`0'\n",
      "wrong input. enter a number invalid literal for int() with base 10: '`0'\n",
      "number is even\n"
     ]
    }
   ],
   "source": [
    "flag = True\n",
    "while flag:\n",
    "    try:\n",
    "        num = int(input('enter a number: '))\n",
    "        flag = False\n",
    "    except Exception as e:\n",
    "        print('wrong input. enter a number',e)\n",
    "if num %2 ==0:\n",
    "    print('number is even')\n",
    "else:\n",
    "    print('number is odd')"
   ]
  },
  {
   "cell_type": "markdown",
   "metadata": {},
   "source": [
    "Q18. What are boolean operator?\n",
    "\n",
    "Boolean Operators are AND, OR, NOT or  AND NOT used to perform operations on variables \n"
   ]
  },
  {
   "cell_type": "markdown",
   "metadata": {},
   "source": [
    "Q19. What will the output of the following?\n",
    "```\n",
    "1 or 0\n",
    "\n",
    "0 and 0\n",
    "\n",
    "True and False and True\n",
    "\n",
    "1 or 0 or 0\n",
    "```\n",
    "\n",
    "1 or 0 -> True\n",
    "\n",
    "0 and 0 -> True\n",
    "\n",
    "True and False and True -> False\n",
    "\n",
    "1 or 0 or 0 -> True"
   ]
  },
  {
   "cell_type": "markdown",
   "metadata": {},
   "source": [
    "Q20. What are conditional statements in Python?\n",
    "\n",
    "Conditional statements guide the program while making decisions based on the conditions encountered by the program\n",
    "\n",
    "examples -> if, if else, if elif else"
   ]
  },
  {
   "cell_type": "markdown",
   "metadata": {},
   "source": [
    "Q21. What is use of 'if', 'elif' and 'else' keywords?\n",
    "\n",
    "If elif else are conditional statements that cane be used run the program based on the condition\n",
    "\n",
    "1. If block executed only if condition is true\n",
    "\n",
    "2. If else statement -> if block executed if the condition is true Otherwise else block get executed for sure.\n",
    "\n",
    "3. If elif else -> One block from if or elif get executed if condition is true otherwise else block will get executed."
   ]
  },
  {
   "cell_type": "markdown",
   "metadata": {},
   "source": [
    "Q22. Write a code to take the age of person as an input and if age >= 18 display \"I can vote\". If age is < 18 display \"I can't vote\"."
   ]
  },
  {
   "cell_type": "code",
   "execution_count": 6,
   "metadata": {},
   "outputs": [
    {
     "name": "stdout",
     "output_type": "stream",
     "text": [
      "I can't vote\n"
     ]
    }
   ],
   "source": [
    "flag = True\n",
    "while flag:\n",
    "    try:\n",
    "        age = int(input(\"Enter your age: \"))\n",
    "        flag = False\n",
    "    except:\n",
    "        print(\"Enter your age in number\")\n",
    "\n",
    "if age >= 18:\n",
    "    print('I can vote')\n",
    "else:\n",
    "    print(\"I can't vote\")"
   ]
  },
  {
   "cell_type": "markdown",
   "metadata": {},
   "source": [
    "\n",
    "Q23. Write a code that displays the sum of all the even numbers from the given list.\n",
    "```\n",
    "numbers = [12, 75, 150, 180, 145, 525, 50]\n",
    "```\n"
   ]
  },
  {
   "cell_type": "code",
   "execution_count": 7,
   "metadata": {},
   "outputs": [
    {
     "name": "stdout",
     "output_type": "stream",
     "text": [
      "392\n"
     ]
    }
   ],
   "source": [
    "numbers = [12, 75, 150, 180, 145, 525, 50]\n",
    "\n",
    "sum = 0\n",
    "for i in numbers:\n",
    "    if i%2 ==0:\n",
    "        sum +=i\n",
    "print(sum)"
   ]
  },
  {
   "cell_type": "markdown",
   "metadata": {},
   "source": [
    "Q24. Write a code to take 3 numbers as an input from the user and display the greatest no as output.\n"
   ]
  },
  {
   "cell_type": "code",
   "execution_count": 10,
   "metadata": {},
   "outputs": [
    {
     "name": "stdout",
     "output_type": "stream",
     "text": [
      "Input 3 numbers\n",
      "Greatest number out of three is:  12\n"
     ]
    }
   ],
   "source": [
    "import math\n",
    "greatest = -math.inf\n",
    "\n",
    "print(\"Input 3 numbers\")\n",
    "\n",
    "for i in range(3):\n",
    "    num = int(input('Enter a number'))\n",
    "    if num > greatest:\n",
    "        greatest = num\n",
    "print('Greatest number out of three is: ',greatest)"
   ]
  },
  {
   "cell_type": "markdown",
   "metadata": {},
   "source": [
    "Q25. Write a program to display only those numbers from a list that satisfy the following conditions\n",
    "\n",
    "- The number must be divisible by five\n",
    "\n",
    "- If the number is greater than 150, then skip it and move to the next number\n",
    "\n",
    "- If the number is greater than 500, then stop the loop\n",
    "```\n",
    "numbers = [12, 75, 150, 180, 145, 525, 50]\n",
    "```"
   ]
  },
  {
   "cell_type": "code",
   "execution_count": 11,
   "metadata": {},
   "outputs": [
    {
     "name": "stdout",
     "output_type": "stream",
     "text": [
      "75\n",
      "150\n",
      "145\n",
      "50\n"
     ]
    }
   ],
   "source": [
    "numbers = [12, 75, 150, 180, 145, 525, 50]\n",
    "\n",
    "for i in numbers:\n",
    "    if i%5 ==0:\n",
    "        if i >150:\n",
    "            continue\n",
    "        if i>500:\n",
    "            break\n",
    "        print(i)"
   ]
  }
 ],
 "metadata": {
  "kernelspec": {
   "display_name": "Python 3.10.4 64-bit",
   "language": "python",
   "name": "python3"
  },
  "language_info": {
   "codemirror_mode": {
    "name": "ipython",
    "version": 3
   },
   "file_extension": ".py",
   "mimetype": "text/x-python",
   "name": "python",
   "nbconvert_exporter": "python",
   "pygments_lexer": "ipython3",
   "version": "3.10.4"
  },
  "orig_nbformat": 4,
  "vscode": {
   "interpreter": {
    "hash": "aee8b7b246df8f9039afb4144a1f6fd8d2ca17a180786b69acc140d282b71a49"
   }
  }
 },
 "nbformat": 4,
 "nbformat_minor": 2
}
