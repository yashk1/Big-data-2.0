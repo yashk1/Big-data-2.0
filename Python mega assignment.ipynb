{
 "cells": [
  {
   "cell_type": "markdown",
   "metadata": {},
   "source": [
    "For questions 1 to 25 \n",
    "https://github.com/yashk1/Big-data-2.0/blob/main/Assignment-1.ipynb"
   ]
  },
  {
   "cell_type": "markdown",
   "metadata": {},
   "source": [
    "### 25\n",
    "## Assignment Part-1\n",
    "Q1. Why do we call Python as a general purpose and high-level programming language?\n",
    "\n",
    "Q2. Why is Python called a dynamically typed language?\n",
    "\n",
    "Q3. List some pros and cons of Python programming language?\n",
    "\n",
    "Q4. In what all domains can we use Python?\n",
    "\n",
    "Q5. What are variable and how can we declare them?\n",
    "\n",
    "Q6. How can we take an input from the user in Python?\n",
    "\n",
    "Q7. What is the default datatype of the value that has been taken as an input using input() function?\n",
    "\n",
    "Q8. What is type casting?\n",
    "\n",
    "Q9. Can we take more than one input from the user using single input() function? If yes, how? If no, why?\n",
    "\n",
    "Q10. What are keywords?\n",
    "\n",
    "Q11. Can we use keywords as a variable? Support your answer with reason.\n",
    "\n",
    "Q12. What is indentation? What's the use of indentaion in Python?\n",
    "\n",
    "Q13. How can we throw some output in Python?\n",
    "\n",
    "Q14. What are operators in Python?\n",
    "\n",
    "Q15. What is difference between / and // operators?\n",
    "\n",
    "Q16. Write a code that gives following as an output.\n",
    "```\n",
    "iNeuroniNeuroniNeuroniNeuron\n",
    "```\n",
    "\n",
    "Q17. Write a code to take a number as an input from the user and check if the number is odd or even.\n",
    "\n",
    "Q18. What are boolean operator?\n",
    "\n",
    "Q19. What will the output of the following?\n",
    "```\n",
    "1 or 0\n",
    "\n",
    "0 and 0\n",
    "\n",
    "True and False and True\n",
    "\n",
    "1 or 0 or 0\n",
    "```\n",
    "\n",
    "Q20. What are conditional statements in Python?\n",
    "\n",
    "Q21. What is use of 'if', 'elif' and 'else' keywords?\n",
    "\n",
    "Q22. Write a code to take the age of person as an input and if age >= 18 display \"I can vote\". If age is < 18 display \"I can't vote\".\n",
    "\n",
    "Q23. Write a code that displays the sum of all the even numbers from the given list.\n",
    "```\n",
    "numbers = [12, 75, 150, 180, 145, 525, 50]\n",
    "```\n",
    "\n",
    "\n",
    "Q24. Write a code to take 3 numbers as an input from the user and display the greatest no as output.\n",
    "\n",
    "Q25. Write a program to display only those numbers from a list that satisfy the following conditions\n",
    "\n",
    "- The number must be divisible by five\n",
    "\n",
    "- If the number is greater than 150, then skip it and move to the next number\n",
    "\n",
    "- If the number is greater than 500, then stop the loop\n",
    "```\n",
    "numbers = [12, 75, 150, 180, 145, 525, 50]\n",
    "```\n",
    "\n",
    "Q26. What is a string? How can we declare string in Python?\n",
    "\n",
    "Q27. How can we access the string using its index?\n",
    "\n",
    "Q28. Write a code to get the desired output of the following\n",
    "```\n",
    "string = \"Big Data iNeuron\"\n",
    "desired_output = \"iNeuron\"\n",
    "```\n",
    "\n",
    "Q29. Write a code to get the desired output of the following\n",
    "```\n",
    "string = \"Big Data iNeuron\"\n",
    "desired_output = \"norueNi\"\n",
    "```\n",
    "\n",
    "Q30. Resverse the string given in the above question.\n",
    "\n",
    "Q31. How can you delete entire string at once?\n",
    "\n",
    "Q32. What is escape sequence?\n",
    "\n",
    "Q33. How can you print the below string?\n",
    "```\n",
    "'iNeuron's Big Data Course'\n",
    "```\n",
    "\n",
    "Q34. What is a list in Python?\n",
    "\n",
    "Q35. How can you create a list in Python?\n",
    "\n",
    "Q36. How can we access the elements in a list?\n",
    "\n",
    "Q37. Write a code to access the word \"iNeuron\" from the given list.\n",
    "```\n",
    "lst = [1,2,3,\"Hi\",[45,54, \"iNeuron\"], \"Big Data\"]\n",
    "``` \n",
    "\n",
    "Q38. Take a list as an input from the user and find the length of the list.\n",
    "\n",
    "Q39. Add the word \"Big\" in the 3rd index of the given list.\n",
    "```\n",
    "lst = [\"Welcome\", \"to\", \"Data\", \"course\"]\n",
    "```\n",
    "\n",
    "Q40. What is a tuple? How is it different from list?\n",
    "\n",
    "Q41. How can you create a tuple in Python?\n",
    "\n",
    "Q42. Create a tuple and try to add your name in the tuple. Are you able to do it? Support your answer with reason.\n",
    "\n",
    "Q43. Can two tuple be appended. If yes, write a code for it. If not, why?\n",
    "\n",
    "Q44. Take a tuple as an input and print the count of elements in it.\n",
    "\n",
    "Q45. What are sets in Python?\n",
    "\n",
    "Q46. How can you create a set?\n",
    "\n",
    "Q47. Create a set and add \"iNeuron\" in your set.\n",
    "\n",
    "Q48. Try to add multiple values using add() function.\n",
    "\n",
    "Q49. How is update() different from add()?\n",
    "\n",
    "Q50. What is clear() in sets?\n",
    "\n",
    "Q51. What is frozen set?\n",
    "\n",
    "Q52. How is frozen set different from set?\n",
    "\n",
    "Q53. What is union() in sets? Explain via code.\n",
    "\n",
    "Q54. What is intersection() in sets? Explain via code.\n",
    "\n",
    "Q55. What is dictionary ibn Python?\n",
    "\n",
    "Q56. How is dictionary different from all other data structures.\n",
    "\n",
    "Q57. How can we delare a dictionary in Python?\n",
    "\n",
    "Q58. What will the output of the following?\n",
    "```\n",
    "var = {}\n",
    "print(type(var))\n",
    "```\n",
    "\n",
    "Q59. How can we add an element in a dictionary?\n",
    "\n",
    "Q60. Create a dictionary and access all the values in that dictionary.\n",
    "\n",
    "Q61. Create a nested dictionary and access all the element in the inner dictionary.\n",
    "\n",
    "Q62. What is the use of get() function?\n",
    "\n",
    "Q63. What is the use of items() function?\n",
    "\n",
    "Q64. What is the use of pop() function?\n",
    "\n",
    "Q65. What is the use of popitems() function?\n",
    "\n",
    "Q66. What is the use of keys() function?\n",
    "\n",
    "Q67. What is the use of values() function?\n",
    "\n",
    "Q68. What are loops in Python?\n",
    "\n",
    "Q69. How many type of loop are there in Python?\n",
    "\n",
    "Q70. What is the difference between for and while loops?\n",
    "\n",
    "Q71. What is the use of continue statement?\n",
    "\n",
    "Q72. What is the use of break statement?\n",
    "\n",
    "Q73. What is the use of pass statement?\n",
    "\n",
    "Q74. What is the use of range() function?\n",
    "\n",
    "Q75. How can you loop over a dictionary?\n",
    "\n",
    "\n",
    "### Coding problems\n",
    "Q76. Write a Python program to find the factorial of a given number.\n",
    "\n",
    "Q77. Write a Python program to calculate the simple interest. Formula to calculate simple interest is SI = (P*R*T)/100\n",
    "\n",
    "Q78. Write a Python program to calculate the compound interest. Formula of compound interest is A = P(1+ R/100)^t.\n",
    "\n",
    "Q79. Write a Python program to check if a number is prime or not.\n",
    "\n",
    "Q80. Write a Python program to check Armstrong Number.\n",
    "\n",
    "Q81. Write a Python program to find the n-th Fibonacci Number.\n",
    "\n",
    "Q82. Write a Python program to interchange the first and last element in a list.\n",
    "\n",
    "Q83. Write a Python program to swap two elements in a list.\n",
    "\n",
    "Q84. Write a Python program to find N largest element from a list.\n",
    "\n",
    "Q85. Write a Python program to find cumulative sum of a list.\n",
    "\n",
    "Q86. Write a Python program to check if a string is palindrome or not.\n",
    "\n",
    "Q87. Write a Python program to remove i'th element from a string.\n",
    "\n",
    "Q88. Write a Python program to check if a substring is present in a given string.\n",
    "\n",
    "Q89. Write a Python program to find words which are greater than given length k.\n",
    "\n",
    "Q90. Write a Python program to extract unquire dictionary values.\n",
    "\n",
    "Q91. Write a Python program to merge two dictionary.\n",
    "\n",
    "Q92. Write a Python program to convert a list of tuples into dictionary.\n",
    "```\n",
    "Input : [('Sachin', 10), ('MSD', 7), ('Kohli', 18), ('Rohit', 45)]\n",
    "Output : {'Sachin': 10, 'MSD': 7, 'Kohli': 18, 'Rohit': 45}\n",
    "```\n",
    "\n",
    "Q93. Write a Python program to create a list of tuples from given list having number and its cube in each tuple.\n",
    "```\n",
    "Input: list = [9, 5, 6]\n",
    "Output: [(9, 729), (5, 125), (6, 216)]\n",
    "```\n",
    "\n",
    "Q94. Write a Python program to get all combinations of 2 tuples.\n",
    "```\n",
    "Input : test_tuple1 = (7, 2), test_tuple2 = (7, 8)\n",
    "Output : [(7, 7), (7, 8), (2, 7), (2, 8), (7, 7), (7, 2), (8, 7), (8, 2)]\n",
    "```\n",
    "\n",
    "Q95. Write a Python program to sort a list of tuples by second item.\n",
    "```\n",
    "Input : [('for', 24), ('Geeks', 8), ('Geeks', 30)] \n",
    "Output : [('Geeks', 8), ('for', 24), ('Geeks', 30)]\n",
    "```\n",
    "\n",
    "Q96. Write a python program to print below pattern.\n",
    "```\n",
    "* \n",
    "* * \n",
    "* * * \n",
    "* * * * \n",
    "* * * * * \n",
    "```\n",
    "Q97. Write a python program to print below pattern.\n",
    "```\n",
    "    *\n",
    "   **\n",
    "  ***\n",
    " ****\n",
    "*****\n",
    "```\n",
    "\n",
    "Q98. Write a python program to print below pattern.\n",
    "```\n",
    "    * \n",
    "   * * \n",
    "  * * * \n",
    " * * * * \n",
    "* * * * * \n",
    "```\n",
    "\n",
    "Q99. Write a python program to print below pattern.\n",
    "```\n",
    "1 \n",
    "1 2 \n",
    "1 2 3 \n",
    "1 2 3 4 \n",
    "1 2 3 4 5\n",
    "```\n",
    "\n",
    "Q100. Write a python program to print below pattern.\n",
    "```\n",
    "A \n",
    "B B \n",
    "C C C \n",
    "D D D D \n",
    "E E E E E \n",
    "```"
   ]
  },
  {
   "cell_type": "markdown",
   "metadata": {},
   "source": []
  },
  {
   "cell_type": "markdown",
   "metadata": {},
   "source": [
    "## Coding problems"
   ]
  },
  {
   "cell_type": "markdown",
   "metadata": {},
   "source": [
    "#### 76. Write a Python program to find the factorial of a given number."
   ]
  },
  {
   "cell_type": "code",
   "execution_count": 7,
   "metadata": {},
   "outputs": [
    {
     "data": {
      "text/plain": [
       "24"
      ]
     },
     "execution_count": 7,
     "metadata": {},
     "output_type": "execute_result"
    }
   ],
   "source": [
    "def factorial(n):\n",
    "    if n == 0 or n == 1:\n",
    "        return 1\n",
    "\n",
    "    return n * factorial(n-1)\n",
    "\n",
    "factorial(4)"
   ]
  },
  {
   "cell_type": "markdown",
   "metadata": {},
   "source": [
    "#### 77. Write a Python program to calculate the simple interest. Formula to calculate simple interest is SI = (PRT)/100"
   ]
  },
  {
   "cell_type": "code",
   "execution_count": 13,
   "metadata": {},
   "outputs": [
    {
     "name": "stdout",
     "output_type": "stream",
     "text": [
      "Simple interest is:  7.2\n"
     ]
    }
   ],
   "source": [
    "def simple_interest(p, r, t):\n",
    "    '''\n",
    "    :param p: Principle\n",
    "    :param r: Rate\n",
    "    :param age: time\n",
    "    :return: returns Simple interest\n",
    "    '''\n",
    "    si = (p*r*t) / 100\n",
    "    return si\n",
    "\n",
    "si = simple_interest(120, 3, 2)\n",
    "print(f'Simple interest is: ',si)"
   ]
  },
  {
   "cell_type": "markdown",
   "metadata": {},
   "source": [
    "#### 78. Write a Python program to calculate the compound interest. Formula of compound interest is A = P(1+ R/100)^t"
   ]
  },
  {
   "cell_type": "code",
   "execution_count": 15,
   "metadata": {},
   "outputs": [
    {
     "name": "stdout",
     "output_type": "stream",
     "text": [
      "Compound interest is:  127.30799999999999\n"
     ]
    }
   ],
   "source": [
    "def compound_interest(p, r, t):\n",
    "    '''\n",
    "    :param p: Principle\n",
    "    :param r: Rate\n",
    "    :param age: time\n",
    "    :return: returns Compound interest\n",
    "    '''\n",
    "    ci = p*(1 + (r/100)) ** t\n",
    "    return ci\n",
    "\n",
    "ci = compound_interest(120, 3, 2)\n",
    "print(f'Compound interest is: ',ci)"
   ]
  },
  {
   "cell_type": "markdown",
   "metadata": {},
   "source": [
    "#### 79. Write a Python program to check if a number is prime or not."
   ]
  },
  {
   "cell_type": "code",
   "execution_count": 18,
   "metadata": {},
   "outputs": [
    {
     "data": {
      "text/plain": [
       "'Not Prime'"
      ]
     },
     "execution_count": 18,
     "metadata": {},
     "output_type": "execute_result"
    }
   ],
   "source": [
    "def prime_or_not(num):\n",
    "    if num > 1:\n",
    "        for i in range(2, num):\n",
    "            if num % i == 0:\n",
    "                return 'Not Prime'\n",
    "        else:\n",
    "            return 'Prime'\n",
    "    return 'Not Prime'\n",
    "\n",
    "prime_or_not(15)\n"
   ]
  },
  {
   "cell_type": "markdown",
   "metadata": {},
   "source": [
    "#### 80. Write a Python program to check Armstrong Number\n"
   ]
  },
  {
   "cell_type": "code",
   "execution_count": 34,
   "metadata": {},
   "outputs": [
    {
     "data": {
      "text/plain": [
       "'Not Armstrong'"
      ]
     },
     "execution_count": 34,
     "metadata": {},
     "output_type": "execute_result"
    }
   ],
   "source": [
    "def armstrong(num):\n",
    "    sum = 0\n",
    "    num2 = num \n",
    "    while num2 !=0:\n",
    "        sum += (num2 % 10) ** 3\n",
    "        num2 = num2 //10\n",
    "        \n",
    "    if sum == num:\n",
    "        return \"Armstrong\"\n",
    "    else:\n",
    "        return 'Not Armstrong'\n",
    "\n",
    "armstrong(371)\n",
    "armstrong(333)"
   ]
  },
  {
   "cell_type": "markdown",
   "metadata": {},
   "source": [
    "#### 81. Write a Python program to find the n-th Fibonacci Number."
   ]
  },
  {
   "cell_type": "code",
   "execution_count": 46,
   "metadata": {},
   "outputs": [
    {
     "data": {
      "text/plain": [
       "3"
      ]
     },
     "execution_count": 46,
     "metadata": {},
     "output_type": "execute_result"
    }
   ],
   "source": [
    "def fibonacci(num):\n",
    "    if num == 0:\n",
    "        return 0\n",
    "    if num ==1:\n",
    "        return 1\n",
    "\n",
    "    return fibonacci(num-1)+ fibonacci(num-2)\n",
    "\n",
    "fibonacci(4)\n"
   ]
  },
  {
   "cell_type": "code",
   "execution_count": 49,
   "metadata": {},
   "outputs": [
    {
     "data": {
      "text/plain": [
       "2"
      ]
     },
     "execution_count": 49,
     "metadata": {},
     "output_type": "execute_result"
    }
   ],
   "source": [
    "def fibonacci2(num):\n",
    "    if num <= 1:\n",
    "        return num\n",
    "\n",
    "    dic ={}\n",
    "    if num -1 not in dic:\n",
    "        dic[num-1] = fibonacci(num-1)\n",
    "    if num - 2 not in dic:\n",
    "        dic[num-2] = fibonacci(num-2)\n",
    "\n",
    "    return dic[num-1] + dic[num-2]\n",
    "\n",
    "fibonacci2(3)"
   ]
  },
  {
   "cell_type": "markdown",
   "metadata": {},
   "source": [
    "#### 82. Write a Python program to interchange the first and last element in a list."
   ]
  },
  {
   "cell_type": "code",
   "execution_count": 50,
   "metadata": {},
   "outputs": [
    {
     "name": "stdout",
     "output_type": "stream",
     "text": [
      "[5, 1, 2, 3, 4, 0]\n"
     ]
    }
   ],
   "source": [
    "nums = [0,1,2,3,4,5]\n",
    "\n",
    "nums[0], nums[-1] = nums[-1],nums[0]\n",
    "\n",
    "print(nums)"
   ]
  },
  {
   "cell_type": "markdown",
   "metadata": {},
   "source": [
    "#### 83. Write a Python program to swap two elements in a list.\n"
   ]
  },
  {
   "cell_type": "code",
   "execution_count": null,
   "metadata": {},
   "outputs": [],
   "source": []
  }
 ],
 "metadata": {
  "kernelspec": {
   "display_name": "Python 3.10.4 64-bit",
   "language": "python",
   "name": "python3"
  },
  "language_info": {
   "codemirror_mode": {
    "name": "ipython",
    "version": 3
   },
   "file_extension": ".py",
   "mimetype": "text/x-python",
   "name": "python",
   "nbconvert_exporter": "python",
   "pygments_lexer": "ipython3",
   "version": "3.10.4 (v3.10.4:9d38120e33, Mar 23 2022, 17:29:05) [Clang 13.0.0 (clang-1300.0.29.30)]"
  },
  "orig_nbformat": 4,
  "vscode": {
   "interpreter": {
    "hash": "aee8b7b246df8f9039afb4144a1f6fd8d2ca17a180786b69acc140d282b71a49"
   }
  }
 },
 "nbformat": 4,
 "nbformat_minor": 2
}
